{
 "cells": [
  {
   "cell_type": "code",
   "execution_count": null,
   "metadata": {
    "collapsed": true
   },
   "outputs": [],
   "source": [
    "Definitions\n",
    "Word\tDescription\n",
    "AHK\tAutoHotKey\n",
    "\n",
    "Programming language\n",
    "Python - easy…\n",
    "\n",
    "Scope\n",
    "This application used for manage script for AutoHotKey. Intended to provide simple UI to manage multi profiles and repository to the user.\n",
    "\n",
    "Functionalities\n",
    "\t1. Export settings to a file\n",
    "\t2. Import old settings\n",
    "\t3. Organize AHK into local folders\n",
    "\t4. Create profile, be able to create, quick switch between many profile either use \n",
    "\t5. Create easy accessible UI\n",
    "\t6. Auto start script on system start\n",
    "\n",
    "Major components\n",
    "\t• RepositoryManager - file management class. Read and write files (script files) and manage folders\n",
    "\t\t○ Script - the script file in the repository.\n",
    "\t\t○ ScriptFile\n",
    "\t• ConfigManager - configuration management class. Read and write settings\n",
    "\t• Setting - class to store all settings\n",
    "\t\t○ ProfileSetting - list of profiles\n",
    "\t• ScriptManager - actually manages scripts\n",
    "\t\t○ Scripts - list of scripts\n",
    "\t• UI\n",
    "\t\t○ Tree view - to display all the profiles\n",
    "\t\t○ List view - to display a list of script in that profiles\n",
    "\t\t○ Menu\n",
    "\t\t\t§ Add - add script to repository\n",
    "\t\t\t§ Remove - remove script from the repository but won delete the file\n",
    "\t\t\t§ Delete - delete the local file\n",
    "\t\t\t\n",
    "Requirements\n",
    "Single script should be able to assign to multiply profile instead store multiple copies\n",
    "Always have \"All\" available to display all scripts.\n",
    "Auto start script in a separate view or tab. An script should be able to mark as startup instead only available for profiles.\n",
    "Configuration manager should allow to export, import and save user settings for profile\n",
    "Scripts should have unique name in repository\n",
    "\n",
    "Planned feature\n",
    "\t1. Multiple repository support\n",
    "\t\ta. For example, one for work and one for home\n",
    "\t2. Simple edit function\n",
    "\t\ta. Allow edit simple key press use interface instead dealing with script itself\n",
    "\t3. Edit support complex UI\n",
    "\t4. Backup profile to an account. Cloud access\n",
    "\n",
    "UI design\n",
    "This section will post all UI screenshots that ideal for the application\n"
   ]
  }
 ],
 "metadata": {
  "kernelspec": {
   "display_name": "Python 2",
   "language": "python",
   "name": "python2"
  },
  "language_info": {
   "codemirror_mode": {
    "name": "ipython",
    "version": 2
   },
   "file_extension": ".py",
   "mimetype": "text/x-python",
   "name": "python",
   "nbconvert_exporter": "python",
   "pygments_lexer": "ipython2",
   "version": "2.7.6"
  }
 },
 "nbformat": 4,
 "nbformat_minor": 0
}
